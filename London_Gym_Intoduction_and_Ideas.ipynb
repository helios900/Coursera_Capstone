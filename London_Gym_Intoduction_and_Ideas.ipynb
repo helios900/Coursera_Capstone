{
 "cells": [
  {
   "cell_type": "markdown",
   "id": "2954e0d1",
   "metadata": {},
   "source": [
    "# Battle of London Borough"
   ]
  },
  {
   "cell_type": "markdown",
   "id": "d17921e5",
   "metadata": {},
   "source": [
    "#### Finding the Best Place to live for Body Building Enthusiast"
   ]
  },
  {
   "cell_type": "markdown",
   "id": "18b90c5d",
   "metadata": {},
   "source": [
    "## 1. Introduction"
   ]
  },
  {
   "cell_type": "markdown",
   "id": "b3825fe6",
   "metadata": {},
   "source": [
    "### 1.1. Background Story"
   ]
  },
  {
   "cell_type": "markdown",
   "id": "61c4a473",
   "metadata": {},
   "source": [
    "Mr. Big Guy is a sports enthusiast, especially on Body Bulding. In a week, He is going to move from Paris to London. Because of his passion on body building, he wants to move to a place where there are many options to do body building, i.e. Gym and Fitness Center.  \n",
    "We are going to help Mr. Big Guy to choose the best place for him to live in London."
   ]
  },
  {
   "cell_type": "markdown",
   "id": "4641c05f",
   "metadata": {},
   "source": [
    "### 1.2. Ideas"
   ]
  },
  {
   "cell_type": "markdown",
   "id": "08611482",
   "metadata": {},
   "source": [
    "Ideas to solve the problem:\n",
    "\n",
    "1. Find nearby venues on each borough in London\n",
    "2. Retrieve all gym venues on London to be analyzed \n",
    "3. Cluster gym venues using Density-Based Spatial Clustering of Applications with Noise (DBSCAN)\n",
    "4. Select the cluster with most number of gym in the cluster\n",
    "5. If the biggest and most dense cluster is too large (point 4), find the subcluster to obtain the most suitable area which sorrounded by many gym venues"
   ]
  },
  {
   "cell_type": "markdown",
   "id": "526a70d5",
   "metadata": {},
   "source": [
    "### 1.3. Data"
   ]
  },
  {
   "cell_type": "markdown",
   "id": "243489da",
   "metadata": {},
   "source": [
    "How to obtain data:\n",
    "1. List of London Borough\n",
    "Source : from the Wikipedia (London Boroughs, link : https://en.wikipedia.org/wiki/London_boroughs)\n",
    "\n",
    "    How to use the Data:\n",
    "    - Obtain Data using BeautifulSoup\n",
    "    - Data of Borough Name will be used for searching the coordinate of Borough, and then finding the nearby gym venues\n",
    "\n",
    "2. Coordinate of Borough\n",
    "Source : longitude and latitiude of each borough can be retrieved with Geopy library\n",
    "\n",
    "    How to use the Data:\n",
    "    - Obtain Data Geopy library\n",
    "    - Data will be used for searchig nearby gym venues\n",
    "\n",
    "3. Venues\n",
    "Source : Foursquare API\n",
    "\n",
    "    How to use the Data:\n",
    "    - Obtain with Foursquare API\n",
    "    - Data will be used to cluster the venues based on the location"
   ]
  },
  {
   "cell_type": "markdown",
   "id": "cd371747",
   "metadata": {},
   "source": [
    "### 1.4. Methodology"
   ]
  },
  {
   "cell_type": "markdown",
   "id": "41849d77",
   "metadata": {},
   "source": [
    "1. Get Table of list of London Borough using beautiful soup from wikipedia page\n",
    "2. Get the coordinate data (longitude and latitude) from each borough using geopy library\n",
    "3. From each borough, find the near venue on radius 2km with specific category id of gym / fitness center\n",
    "4. Clean data and do the preprocessing method\n",
    "5. CLuster the gym data using DBSCAN\n",
    "6. Select the cluster with most number of gym in the cluster\n",
    "7. If the biggest and most dense cluster is too large, find the subcluster to obtain the most suitable area which sorrounded by many gym venues\n",
    "8. Find the conclusion and summary of the entire process and output"
   ]
  },
  {
   "cell_type": "markdown",
   "id": "e933fac1",
   "metadata": {},
   "source": [
    "# "
   ]
  }
 ],
 "metadata": {
  "kernelspec": {
   "display_name": "Python 3",
   "language": "python",
   "name": "python3"
  },
  "language_info": {
   "codemirror_mode": {
    "name": "ipython",
    "version": 3
   },
   "file_extension": ".py",
   "mimetype": "text/x-python",
   "name": "python",
   "nbconvert_exporter": "python",
   "pygments_lexer": "ipython3",
   "version": "3.7.10"
  }
 },
 "nbformat": 4,
 "nbformat_minor": 5
}
